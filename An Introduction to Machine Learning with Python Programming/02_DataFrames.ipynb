{
 "cells": [
  {
   "cell_type": "code",
   "execution_count": 1,
   "id": "efcade1a",
   "metadata": {},
   "outputs": [],
   "source": [
    "import numpy as np\n",
    "import pandas as pd"
   ]
  },
  {
   "cell_type": "markdown",
   "id": "3bdde94a",
   "metadata": {},
   "source": [
    "# DataFrames\n",
    "\n",
    "bunch of Series objects having a common index"
   ]
  },
  {
   "cell_type": "code",
   "execution_count": 16,
   "id": "cedd56bb",
   "metadata": {},
   "outputs": [],
   "source": [
    "from numpy.random import randn\n",
    "np.random.seed(50) "
   ]
  },
  {
   "cell_type": "code",
   "execution_count": 25,
   "id": "7d86a866",
   "metadata": {},
   "outputs": [
    {
     "data": {
      "text/html": [
       "<div>\n",
       "<style scoped>\n",
       "    .dataframe tbody tr th:only-of-type {\n",
       "        vertical-align: middle;\n",
       "    }\n",
       "\n",
       "    .dataframe tbody tr th {\n",
       "        vertical-align: top;\n",
       "    }\n",
       "\n",
       "    .dataframe thead th {\n",
       "        text-align: right;\n",
       "    }\n",
       "</style>\n",
       "<table border=\"1\" class=\"dataframe\">\n",
       "  <thead>\n",
       "    <tr style=\"text-align: right;\">\n",
       "      <th></th>\n",
       "      <th>W</th>\n",
       "      <th>X</th>\n",
       "      <th>Y</th>\n",
       "      <th>Z</th>\n",
       "    </tr>\n",
       "  </thead>\n",
       "  <tbody>\n",
       "    <tr>\n",
       "      <th>A</th>\n",
       "      <td>1.230885</td>\n",
       "      <td>-2.373453</td>\n",
       "      <td>-0.031111</td>\n",
       "      <td>-3.809890</td>\n",
       "    </tr>\n",
       "    <tr>\n",
       "      <th>B</th>\n",
       "      <td>-0.199050</td>\n",
       "      <td>0.350431</td>\n",
       "      <td>-0.052551</td>\n",
       "      <td>-0.634281</td>\n",
       "    </tr>\n",
       "    <tr>\n",
       "      <th>C</th>\n",
       "      <td>-0.362931</td>\n",
       "      <td>-2.570920</td>\n",
       "      <td>0.137515</td>\n",
       "      <td>-0.719296</td>\n",
       "    </tr>\n",
       "    <tr>\n",
       "      <th>D</th>\n",
       "      <td>0.728523</td>\n",
       "      <td>1.621745</td>\n",
       "      <td>1.521662</td>\n",
       "      <td>-1.306773</td>\n",
       "    </tr>\n",
       "    <tr>\n",
       "      <th>E</th>\n",
       "      <td>-0.889768</td>\n",
       "      <td>0.005268</td>\n",
       "      <td>0.866425</td>\n",
       "      <td>-0.535536</td>\n",
       "    </tr>\n",
       "  </tbody>\n",
       "</table>\n",
       "</div>"
      ],
      "text/plain": [
       "          W         X         Y         Z\n",
       "A  1.230885 -2.373453 -0.031111 -3.809890\n",
       "B -0.199050  0.350431 -0.052551 -0.634281\n",
       "C -0.362931 -2.570920  0.137515 -0.719296\n",
       "D  0.728523  1.621745  1.521662 -1.306773\n",
       "E -0.889768  0.005268  0.866425 -0.535536"
      ]
     },
     "execution_count": 25,
     "metadata": {},
     "output_type": "execute_result"
    }
   ],
   "source": [
    "df = pd.DataFrame(randn(5,4),\n",
    "                  index = 'A B C D E'.split(),\n",
    "                  columns = 'W X Y Z'.split())\n",
    "df"
   ]
  },
  {
   "cell_type": "markdown",
   "id": "f94ff546",
   "metadata": {},
   "source": [
    "# Selection and Indexing\n",
    "\n",
    "### Selecting Columns"
   ]
  },
  {
   "cell_type": "code",
   "execution_count": 23,
   "id": "60cd2eed",
   "metadata": {},
   "outputs": [
    {
     "data": {
      "text/plain": [
       "A    0.746569\n",
       "B    0.039008\n",
       "C    0.222244\n",
       "D    1.471002\n",
       "E    0.805189\n",
       "Name: Y, dtype: float64"
      ]
     },
     "execution_count": 23,
     "metadata": {},
     "output_type": "execute_result"
    }
   ],
   "source": [
    "df['Y']"
   ]
  },
  {
   "cell_type": "code",
   "execution_count": 24,
   "id": "e43ce198",
   "metadata": {},
   "outputs": [
    {
     "data": {
      "text/plain": [
       "pandas.core.series.Series"
      ]
     },
     "execution_count": 24,
     "metadata": {},
     "output_type": "execute_result"
    }
   ],
   "source": [
    "type(df['Y'])"
   ]
  },
  {
   "cell_type": "code",
   "execution_count": 26,
   "id": "e12bac21",
   "metadata": {},
   "outputs": [
    {
     "data": {
      "text/plain": [
       "A   -0.031111\n",
       "B   -0.052551\n",
       "C    0.137515\n",
       "D    1.521662\n",
       "E    0.866425\n",
       "Name: Y, dtype: float64"
      ]
     },
     "execution_count": 26,
     "metadata": {},
     "output_type": "execute_result"
    }
   ],
   "source": [
    "#SQL Syntax (Not recommended)\n",
    "\n",
    "df.Y"
   ]
  },
  {
   "cell_type": "code",
   "execution_count": 27,
   "id": "490b1754",
   "metadata": {},
   "outputs": [
    {
     "data": {
      "text/html": [
       "<div>\n",
       "<style scoped>\n",
       "    .dataframe tbody tr th:only-of-type {\n",
       "        vertical-align: middle;\n",
       "    }\n",
       "\n",
       "    .dataframe tbody tr th {\n",
       "        vertical-align: top;\n",
       "    }\n",
       "\n",
       "    .dataframe thead th {\n",
       "        text-align: right;\n",
       "    }\n",
       "</style>\n",
       "<table border=\"1\" class=\"dataframe\">\n",
       "  <thead>\n",
       "    <tr style=\"text-align: right;\">\n",
       "      <th></th>\n",
       "      <th>W</th>\n",
       "      <th>Z</th>\n",
       "    </tr>\n",
       "  </thead>\n",
       "  <tbody>\n",
       "    <tr>\n",
       "      <th>A</th>\n",
       "      <td>1.230885</td>\n",
       "      <td>-3.809890</td>\n",
       "    </tr>\n",
       "    <tr>\n",
       "      <th>B</th>\n",
       "      <td>-0.199050</td>\n",
       "      <td>-0.634281</td>\n",
       "    </tr>\n",
       "    <tr>\n",
       "      <th>C</th>\n",
       "      <td>-0.362931</td>\n",
       "      <td>-0.719296</td>\n",
       "    </tr>\n",
       "    <tr>\n",
       "      <th>D</th>\n",
       "      <td>0.728523</td>\n",
       "      <td>-1.306773</td>\n",
       "    </tr>\n",
       "    <tr>\n",
       "      <th>E</th>\n",
       "      <td>-0.889768</td>\n",
       "      <td>-0.535536</td>\n",
       "    </tr>\n",
       "  </tbody>\n",
       "</table>\n",
       "</div>"
      ],
      "text/plain": [
       "          W         Z\n",
       "A  1.230885 -3.809890\n",
       "B -0.199050 -0.634281\n",
       "C -0.362931 -0.719296\n",
       "D  0.728523 -1.306773\n",
       "E -0.889768 -0.535536"
      ]
     },
     "execution_count": 27,
     "metadata": {},
     "output_type": "execute_result"
    }
   ],
   "source": [
    "df[['W','Z']]"
   ]
  },
  {
   "cell_type": "code",
   "execution_count": 40,
   "id": "e7fe1c02",
   "metadata": {},
   "outputs": [],
   "source": [
    "df['new'] = df['W']+df['Y']"
   ]
  },
  {
   "cell_type": "code",
   "execution_count": 41,
   "id": "5c00515c",
   "metadata": {},
   "outputs": [
    {
     "data": {
      "text/html": [
       "<div>\n",
       "<style scoped>\n",
       "    .dataframe tbody tr th:only-of-type {\n",
       "        vertical-align: middle;\n",
       "    }\n",
       "\n",
       "    .dataframe tbody tr th {\n",
       "        vertical-align: top;\n",
       "    }\n",
       "\n",
       "    .dataframe thead th {\n",
       "        text-align: right;\n",
       "    }\n",
       "</style>\n",
       "<table border=\"1\" class=\"dataframe\">\n",
       "  <thead>\n",
       "    <tr style=\"text-align: right;\">\n",
       "      <th></th>\n",
       "      <th>W</th>\n",
       "      <th>X</th>\n",
       "      <th>Y</th>\n",
       "      <th>Z</th>\n",
       "      <th>new</th>\n",
       "    </tr>\n",
       "  </thead>\n",
       "  <tbody>\n",
       "    <tr>\n",
       "      <th>A</th>\n",
       "      <td>1.230885</td>\n",
       "      <td>-2.373453</td>\n",
       "      <td>-0.031111</td>\n",
       "      <td>-3.809890</td>\n",
       "      <td>1.199775</td>\n",
       "    </tr>\n",
       "    <tr>\n",
       "      <th>B</th>\n",
       "      <td>-0.199050</td>\n",
       "      <td>0.350431</td>\n",
       "      <td>-0.052551</td>\n",
       "      <td>-0.634281</td>\n",
       "      <td>-0.251600</td>\n",
       "    </tr>\n",
       "    <tr>\n",
       "      <th>C</th>\n",
       "      <td>-0.362931</td>\n",
       "      <td>-2.570920</td>\n",
       "      <td>0.137515</td>\n",
       "      <td>-0.719296</td>\n",
       "      <td>-0.225416</td>\n",
       "    </tr>\n",
       "    <tr>\n",
       "      <th>D</th>\n",
       "      <td>0.728523</td>\n",
       "      <td>1.621745</td>\n",
       "      <td>1.521662</td>\n",
       "      <td>-1.306773</td>\n",
       "      <td>2.250185</td>\n",
       "    </tr>\n",
       "    <tr>\n",
       "      <th>E</th>\n",
       "      <td>-0.889768</td>\n",
       "      <td>0.005268</td>\n",
       "      <td>0.866425</td>\n",
       "      <td>-0.535536</td>\n",
       "      <td>-0.023343</td>\n",
       "    </tr>\n",
       "  </tbody>\n",
       "</table>\n",
       "</div>"
      ],
      "text/plain": [
       "          W         X         Y         Z       new\n",
       "A  1.230885 -2.373453 -0.031111 -3.809890  1.199775\n",
       "B -0.199050  0.350431 -0.052551 -0.634281 -0.251600\n",
       "C -0.362931 -2.570920  0.137515 -0.719296 -0.225416\n",
       "D  0.728523  1.621745  1.521662 -1.306773  2.250185\n",
       "E -0.889768  0.005268  0.866425 -0.535536 -0.023343"
      ]
     },
     "execution_count": 41,
     "metadata": {},
     "output_type": "execute_result"
    }
   ],
   "source": [
    "df"
   ]
  },
  {
   "cell_type": "code",
   "execution_count": 42,
   "id": "8f65ae94",
   "metadata": {
    "scrolled": true
   },
   "outputs": [
    {
     "data": {
      "text/html": [
       "<div>\n",
       "<style scoped>\n",
       "    .dataframe tbody tr th:only-of-type {\n",
       "        vertical-align: middle;\n",
       "    }\n",
       "\n",
       "    .dataframe tbody tr th {\n",
       "        vertical-align: top;\n",
       "    }\n",
       "\n",
       "    .dataframe thead th {\n",
       "        text-align: right;\n",
       "    }\n",
       "</style>\n",
       "<table border=\"1\" class=\"dataframe\">\n",
       "  <thead>\n",
       "    <tr style=\"text-align: right;\">\n",
       "      <th></th>\n",
       "      <th>W</th>\n",
       "      <th>X</th>\n",
       "      <th>Y</th>\n",
       "      <th>Z</th>\n",
       "    </tr>\n",
       "  </thead>\n",
       "  <tbody>\n",
       "    <tr>\n",
       "      <th>A</th>\n",
       "      <td>1.230885</td>\n",
       "      <td>-2.373453</td>\n",
       "      <td>-0.031111</td>\n",
       "      <td>-3.809890</td>\n",
       "    </tr>\n",
       "    <tr>\n",
       "      <th>B</th>\n",
       "      <td>-0.199050</td>\n",
       "      <td>0.350431</td>\n",
       "      <td>-0.052551</td>\n",
       "      <td>-0.634281</td>\n",
       "    </tr>\n",
       "    <tr>\n",
       "      <th>C</th>\n",
       "      <td>-0.362931</td>\n",
       "      <td>-2.570920</td>\n",
       "      <td>0.137515</td>\n",
       "      <td>-0.719296</td>\n",
       "    </tr>\n",
       "    <tr>\n",
       "      <th>D</th>\n",
       "      <td>0.728523</td>\n",
       "      <td>1.621745</td>\n",
       "      <td>1.521662</td>\n",
       "      <td>-1.306773</td>\n",
       "    </tr>\n",
       "    <tr>\n",
       "      <th>E</th>\n",
       "      <td>-0.889768</td>\n",
       "      <td>0.005268</td>\n",
       "      <td>0.866425</td>\n",
       "      <td>-0.535536</td>\n",
       "    </tr>\n",
       "  </tbody>\n",
       "</table>\n",
       "</div>"
      ],
      "text/plain": [
       "          W         X         Y         Z\n",
       "A  1.230885 -2.373453 -0.031111 -3.809890\n",
       "B -0.199050  0.350431 -0.052551 -0.634281\n",
       "C -0.362931 -2.570920  0.137515 -0.719296\n",
       "D  0.728523  1.621745  1.521662 -1.306773\n",
       "E -0.889768  0.005268  0.866425 -0.535536"
      ]
     },
     "execution_count": 42,
     "metadata": {},
     "output_type": "execute_result"
    }
   ],
   "source": [
    "#removing columns\n",
    "df.drop('new',axis = 1)"
   ]
  },
  {
   "cell_type": "code",
   "execution_count": 43,
   "id": "3ec07c9f",
   "metadata": {},
   "outputs": [
    {
     "data": {
      "text/html": [
       "<div>\n",
       "<style scoped>\n",
       "    .dataframe tbody tr th:only-of-type {\n",
       "        vertical-align: middle;\n",
       "    }\n",
       "\n",
       "    .dataframe tbody tr th {\n",
       "        vertical-align: top;\n",
       "    }\n",
       "\n",
       "    .dataframe thead th {\n",
       "        text-align: right;\n",
       "    }\n",
       "</style>\n",
       "<table border=\"1\" class=\"dataframe\">\n",
       "  <thead>\n",
       "    <tr style=\"text-align: right;\">\n",
       "      <th></th>\n",
       "      <th>W</th>\n",
       "      <th>X</th>\n",
       "      <th>Y</th>\n",
       "      <th>Z</th>\n",
       "      <th>new</th>\n",
       "    </tr>\n",
       "  </thead>\n",
       "  <tbody>\n",
       "    <tr>\n",
       "      <th>A</th>\n",
       "      <td>1.230885</td>\n",
       "      <td>-2.373453</td>\n",
       "      <td>-0.031111</td>\n",
       "      <td>-3.809890</td>\n",
       "      <td>1.199775</td>\n",
       "    </tr>\n",
       "    <tr>\n",
       "      <th>B</th>\n",
       "      <td>-0.199050</td>\n",
       "      <td>0.350431</td>\n",
       "      <td>-0.052551</td>\n",
       "      <td>-0.634281</td>\n",
       "      <td>-0.251600</td>\n",
       "    </tr>\n",
       "    <tr>\n",
       "      <th>C</th>\n",
       "      <td>-0.362931</td>\n",
       "      <td>-2.570920</td>\n",
       "      <td>0.137515</td>\n",
       "      <td>-0.719296</td>\n",
       "      <td>-0.225416</td>\n",
       "    </tr>\n",
       "    <tr>\n",
       "      <th>D</th>\n",
       "      <td>0.728523</td>\n",
       "      <td>1.621745</td>\n",
       "      <td>1.521662</td>\n",
       "      <td>-1.306773</td>\n",
       "      <td>2.250185</td>\n",
       "    </tr>\n",
       "    <tr>\n",
       "      <th>E</th>\n",
       "      <td>-0.889768</td>\n",
       "      <td>0.005268</td>\n",
       "      <td>0.866425</td>\n",
       "      <td>-0.535536</td>\n",
       "      <td>-0.023343</td>\n",
       "    </tr>\n",
       "  </tbody>\n",
       "</table>\n",
       "</div>"
      ],
      "text/plain": [
       "          W         X         Y         Z       new\n",
       "A  1.230885 -2.373453 -0.031111 -3.809890  1.199775\n",
       "B -0.199050  0.350431 -0.052551 -0.634281 -0.251600\n",
       "C -0.362931 -2.570920  0.137515 -0.719296 -0.225416\n",
       "D  0.728523  1.621745  1.521662 -1.306773  2.250185\n",
       "E -0.889768  0.005268  0.866425 -0.535536 -0.023343"
      ]
     },
     "execution_count": 43,
     "metadata": {},
     "output_type": "execute_result"
    }
   ],
   "source": [
    "df"
   ]
  },
  {
   "cell_type": "code",
   "execution_count": 44,
   "id": "8c6a748b",
   "metadata": {},
   "outputs": [],
   "source": [
    "#method1 for removing column permanently\n",
    "df1 = df.drop('new',axis = 1)"
   ]
  },
  {
   "cell_type": "code",
   "execution_count": 45,
   "id": "f3274291",
   "metadata": {},
   "outputs": [
    {
     "data": {
      "text/html": [
       "<div>\n",
       "<style scoped>\n",
       "    .dataframe tbody tr th:only-of-type {\n",
       "        vertical-align: middle;\n",
       "    }\n",
       "\n",
       "    .dataframe tbody tr th {\n",
       "        vertical-align: top;\n",
       "    }\n",
       "\n",
       "    .dataframe thead th {\n",
       "        text-align: right;\n",
       "    }\n",
       "</style>\n",
       "<table border=\"1\" class=\"dataframe\">\n",
       "  <thead>\n",
       "    <tr style=\"text-align: right;\">\n",
       "      <th></th>\n",
       "      <th>W</th>\n",
       "      <th>X</th>\n",
       "      <th>Y</th>\n",
       "      <th>Z</th>\n",
       "    </tr>\n",
       "  </thead>\n",
       "  <tbody>\n",
       "    <tr>\n",
       "      <th>A</th>\n",
       "      <td>1.230885</td>\n",
       "      <td>-2.373453</td>\n",
       "      <td>-0.031111</td>\n",
       "      <td>-3.809890</td>\n",
       "    </tr>\n",
       "    <tr>\n",
       "      <th>B</th>\n",
       "      <td>-0.199050</td>\n",
       "      <td>0.350431</td>\n",
       "      <td>-0.052551</td>\n",
       "      <td>-0.634281</td>\n",
       "    </tr>\n",
       "    <tr>\n",
       "      <th>C</th>\n",
       "      <td>-0.362931</td>\n",
       "      <td>-2.570920</td>\n",
       "      <td>0.137515</td>\n",
       "      <td>-0.719296</td>\n",
       "    </tr>\n",
       "    <tr>\n",
       "      <th>D</th>\n",
       "      <td>0.728523</td>\n",
       "      <td>1.621745</td>\n",
       "      <td>1.521662</td>\n",
       "      <td>-1.306773</td>\n",
       "    </tr>\n",
       "    <tr>\n",
       "      <th>E</th>\n",
       "      <td>-0.889768</td>\n",
       "      <td>0.005268</td>\n",
       "      <td>0.866425</td>\n",
       "      <td>-0.535536</td>\n",
       "    </tr>\n",
       "  </tbody>\n",
       "</table>\n",
       "</div>"
      ],
      "text/plain": [
       "          W         X         Y         Z\n",
       "A  1.230885 -2.373453 -0.031111 -3.809890\n",
       "B -0.199050  0.350431 -0.052551 -0.634281\n",
       "C -0.362931 -2.570920  0.137515 -0.719296\n",
       "D  0.728523  1.621745  1.521662 -1.306773\n",
       "E -0.889768  0.005268  0.866425 -0.535536"
      ]
     },
     "execution_count": 45,
     "metadata": {},
     "output_type": "execute_result"
    }
   ],
   "source": [
    "df1"
   ]
  },
  {
   "cell_type": "code",
   "execution_count": 46,
   "id": "4d520f8f",
   "metadata": {},
   "outputs": [
    {
     "data": {
      "text/html": [
       "<div>\n",
       "<style scoped>\n",
       "    .dataframe tbody tr th:only-of-type {\n",
       "        vertical-align: middle;\n",
       "    }\n",
       "\n",
       "    .dataframe tbody tr th {\n",
       "        vertical-align: top;\n",
       "    }\n",
       "\n",
       "    .dataframe thead th {\n",
       "        text-align: right;\n",
       "    }\n",
       "</style>\n",
       "<table border=\"1\" class=\"dataframe\">\n",
       "  <thead>\n",
       "    <tr style=\"text-align: right;\">\n",
       "      <th></th>\n",
       "      <th>W</th>\n",
       "      <th>X</th>\n",
       "      <th>Y</th>\n",
       "      <th>Z</th>\n",
       "      <th>new</th>\n",
       "    </tr>\n",
       "  </thead>\n",
       "  <tbody>\n",
       "    <tr>\n",
       "      <th>A</th>\n",
       "      <td>1.230885</td>\n",
       "      <td>-2.373453</td>\n",
       "      <td>-0.031111</td>\n",
       "      <td>-3.809890</td>\n",
       "      <td>1.199775</td>\n",
       "    </tr>\n",
       "    <tr>\n",
       "      <th>B</th>\n",
       "      <td>-0.199050</td>\n",
       "      <td>0.350431</td>\n",
       "      <td>-0.052551</td>\n",
       "      <td>-0.634281</td>\n",
       "      <td>-0.251600</td>\n",
       "    </tr>\n",
       "    <tr>\n",
       "      <th>C</th>\n",
       "      <td>-0.362931</td>\n",
       "      <td>-2.570920</td>\n",
       "      <td>0.137515</td>\n",
       "      <td>-0.719296</td>\n",
       "      <td>-0.225416</td>\n",
       "    </tr>\n",
       "    <tr>\n",
       "      <th>D</th>\n",
       "      <td>0.728523</td>\n",
       "      <td>1.621745</td>\n",
       "      <td>1.521662</td>\n",
       "      <td>-1.306773</td>\n",
       "      <td>2.250185</td>\n",
       "    </tr>\n",
       "    <tr>\n",
       "      <th>E</th>\n",
       "      <td>-0.889768</td>\n",
       "      <td>0.005268</td>\n",
       "      <td>0.866425</td>\n",
       "      <td>-0.535536</td>\n",
       "      <td>-0.023343</td>\n",
       "    </tr>\n",
       "  </tbody>\n",
       "</table>\n",
       "</div>"
      ],
      "text/plain": [
       "          W         X         Y         Z       new\n",
       "A  1.230885 -2.373453 -0.031111 -3.809890  1.199775\n",
       "B -0.199050  0.350431 -0.052551 -0.634281 -0.251600\n",
       "C -0.362931 -2.570920  0.137515 -0.719296 -0.225416\n",
       "D  0.728523  1.621745  1.521662 -1.306773  2.250185\n",
       "E -0.889768  0.005268  0.866425 -0.535536 -0.023343"
      ]
     },
     "execution_count": 46,
     "metadata": {},
     "output_type": "execute_result"
    }
   ],
   "source": [
    "df"
   ]
  },
  {
   "cell_type": "code",
   "execution_count": 47,
   "id": "22ad78bb",
   "metadata": {},
   "outputs": [],
   "source": [
    "#method2\n",
    "df.drop('new',axis = 1, inplace=True)"
   ]
  },
  {
   "cell_type": "code",
   "execution_count": 48,
   "id": "e6ea9882",
   "metadata": {},
   "outputs": [
    {
     "data": {
      "text/html": [
       "<div>\n",
       "<style scoped>\n",
       "    .dataframe tbody tr th:only-of-type {\n",
       "        vertical-align: middle;\n",
       "    }\n",
       "\n",
       "    .dataframe tbody tr th {\n",
       "        vertical-align: top;\n",
       "    }\n",
       "\n",
       "    .dataframe thead th {\n",
       "        text-align: right;\n",
       "    }\n",
       "</style>\n",
       "<table border=\"1\" class=\"dataframe\">\n",
       "  <thead>\n",
       "    <tr style=\"text-align: right;\">\n",
       "      <th></th>\n",
       "      <th>W</th>\n",
       "      <th>X</th>\n",
       "      <th>Y</th>\n",
       "      <th>Z</th>\n",
       "    </tr>\n",
       "  </thead>\n",
       "  <tbody>\n",
       "    <tr>\n",
       "      <th>A</th>\n",
       "      <td>1.230885</td>\n",
       "      <td>-2.373453</td>\n",
       "      <td>-0.031111</td>\n",
       "      <td>-3.809890</td>\n",
       "    </tr>\n",
       "    <tr>\n",
       "      <th>B</th>\n",
       "      <td>-0.199050</td>\n",
       "      <td>0.350431</td>\n",
       "      <td>-0.052551</td>\n",
       "      <td>-0.634281</td>\n",
       "    </tr>\n",
       "    <tr>\n",
       "      <th>C</th>\n",
       "      <td>-0.362931</td>\n",
       "      <td>-2.570920</td>\n",
       "      <td>0.137515</td>\n",
       "      <td>-0.719296</td>\n",
       "    </tr>\n",
       "    <tr>\n",
       "      <th>D</th>\n",
       "      <td>0.728523</td>\n",
       "      <td>1.621745</td>\n",
       "      <td>1.521662</td>\n",
       "      <td>-1.306773</td>\n",
       "    </tr>\n",
       "    <tr>\n",
       "      <th>E</th>\n",
       "      <td>-0.889768</td>\n",
       "      <td>0.005268</td>\n",
       "      <td>0.866425</td>\n",
       "      <td>-0.535536</td>\n",
       "    </tr>\n",
       "  </tbody>\n",
       "</table>\n",
       "</div>"
      ],
      "text/plain": [
       "          W         X         Y         Z\n",
       "A  1.230885 -2.373453 -0.031111 -3.809890\n",
       "B -0.199050  0.350431 -0.052551 -0.634281\n",
       "C -0.362931 -2.570920  0.137515 -0.719296\n",
       "D  0.728523  1.621745  1.521662 -1.306773\n",
       "E -0.889768  0.005268  0.866425 -0.535536"
      ]
     },
     "execution_count": 48,
     "metadata": {},
     "output_type": "execute_result"
    }
   ],
   "source": [
    "df"
   ]
  },
  {
   "cell_type": "code",
   "execution_count": 51,
   "id": "f9572d1d",
   "metadata": {},
   "outputs": [
    {
     "data": {
      "text/html": [
       "<div>\n",
       "<style scoped>\n",
       "    .dataframe tbody tr th:only-of-type {\n",
       "        vertical-align: middle;\n",
       "    }\n",
       "\n",
       "    .dataframe tbody tr th {\n",
       "        vertical-align: top;\n",
       "    }\n",
       "\n",
       "    .dataframe thead th {\n",
       "        text-align: right;\n",
       "    }\n",
       "</style>\n",
       "<table border=\"1\" class=\"dataframe\">\n",
       "  <thead>\n",
       "    <tr style=\"text-align: right;\">\n",
       "      <th></th>\n",
       "      <th>W</th>\n",
       "      <th>X</th>\n",
       "      <th>Y</th>\n",
       "      <th>Z</th>\n",
       "    </tr>\n",
       "  </thead>\n",
       "  <tbody>\n",
       "    <tr>\n",
       "      <th>A</th>\n",
       "      <td>1.230885</td>\n",
       "      <td>-2.373453</td>\n",
       "      <td>-0.031111</td>\n",
       "      <td>-3.809890</td>\n",
       "    </tr>\n",
       "    <tr>\n",
       "      <th>B</th>\n",
       "      <td>-0.199050</td>\n",
       "      <td>0.350431</td>\n",
       "      <td>-0.052551</td>\n",
       "      <td>-0.634281</td>\n",
       "    </tr>\n",
       "    <tr>\n",
       "      <th>C</th>\n",
       "      <td>-0.362931</td>\n",
       "      <td>-2.570920</td>\n",
       "      <td>0.137515</td>\n",
       "      <td>-0.719296</td>\n",
       "    </tr>\n",
       "    <tr>\n",
       "      <th>D</th>\n",
       "      <td>0.728523</td>\n",
       "      <td>1.621745</td>\n",
       "      <td>1.521662</td>\n",
       "      <td>-1.306773</td>\n",
       "    </tr>\n",
       "  </tbody>\n",
       "</table>\n",
       "</div>"
      ],
      "text/plain": [
       "          W         X         Y         Z\n",
       "A  1.230885 -2.373453 -0.031111 -3.809890\n",
       "B -0.199050  0.350431 -0.052551 -0.634281\n",
       "C -0.362931 -2.570920  0.137515 -0.719296\n",
       "D  0.728523  1.621745  1.521662 -1.306773"
      ]
     },
     "execution_count": 51,
     "metadata": {},
     "output_type": "execute_result"
    }
   ],
   "source": [
    "df.drop('E',axis=0)"
   ]
  },
  {
   "cell_type": "code",
   "execution_count": 52,
   "id": "71bac59b",
   "metadata": {},
   "outputs": [
    {
     "data": {
      "text/html": [
       "<div>\n",
       "<style scoped>\n",
       "    .dataframe tbody tr th:only-of-type {\n",
       "        vertical-align: middle;\n",
       "    }\n",
       "\n",
       "    .dataframe tbody tr th {\n",
       "        vertical-align: top;\n",
       "    }\n",
       "\n",
       "    .dataframe thead th {\n",
       "        text-align: right;\n",
       "    }\n",
       "</style>\n",
       "<table border=\"1\" class=\"dataframe\">\n",
       "  <thead>\n",
       "    <tr style=\"text-align: right;\">\n",
       "      <th></th>\n",
       "      <th>W</th>\n",
       "      <th>X</th>\n",
       "      <th>Y</th>\n",
       "      <th>Z</th>\n",
       "    </tr>\n",
       "  </thead>\n",
       "  <tbody>\n",
       "    <tr>\n",
       "      <th>A</th>\n",
       "      <td>1.230885</td>\n",
       "      <td>-2.373453</td>\n",
       "      <td>-0.031111</td>\n",
       "      <td>-3.809890</td>\n",
       "    </tr>\n",
       "    <tr>\n",
       "      <th>B</th>\n",
       "      <td>-0.199050</td>\n",
       "      <td>0.350431</td>\n",
       "      <td>-0.052551</td>\n",
       "      <td>-0.634281</td>\n",
       "    </tr>\n",
       "    <tr>\n",
       "      <th>C</th>\n",
       "      <td>-0.362931</td>\n",
       "      <td>-2.570920</td>\n",
       "      <td>0.137515</td>\n",
       "      <td>-0.719296</td>\n",
       "    </tr>\n",
       "    <tr>\n",
       "      <th>D</th>\n",
       "      <td>0.728523</td>\n",
       "      <td>1.621745</td>\n",
       "      <td>1.521662</td>\n",
       "      <td>-1.306773</td>\n",
       "    </tr>\n",
       "    <tr>\n",
       "      <th>E</th>\n",
       "      <td>-0.889768</td>\n",
       "      <td>0.005268</td>\n",
       "      <td>0.866425</td>\n",
       "      <td>-0.535536</td>\n",
       "    </tr>\n",
       "  </tbody>\n",
       "</table>\n",
       "</div>"
      ],
      "text/plain": [
       "          W         X         Y         Z\n",
       "A  1.230885 -2.373453 -0.031111 -3.809890\n",
       "B -0.199050  0.350431 -0.052551 -0.634281\n",
       "C -0.362931 -2.570920  0.137515 -0.719296\n",
       "D  0.728523  1.621745  1.521662 -1.306773\n",
       "E -0.889768  0.005268  0.866425 -0.535536"
      ]
     },
     "execution_count": 52,
     "metadata": {},
     "output_type": "execute_result"
    }
   ],
   "source": [
    "df"
   ]
  },
  {
   "cell_type": "markdown",
   "id": "7c427b01",
   "metadata": {},
   "source": [
    "### Selecting Rows"
   ]
  },
  {
   "cell_type": "code",
   "execution_count": 54,
   "id": "4c922390",
   "metadata": {},
   "outputs": [
    {
     "data": {
      "text/plain": [
       "W   -0.199050\n",
       "X    0.350431\n",
       "Y   -0.052551\n",
       "Z   -0.634281\n",
       "Name: B, dtype: float64"
      ]
     },
     "execution_count": 54,
     "metadata": {},
     "output_type": "execute_result"
    }
   ],
   "source": [
    "df.loc['B']  #loc for location"
   ]
  },
  {
   "cell_type": "code",
   "execution_count": 55,
   "id": "5e6d70c9",
   "metadata": {},
   "outputs": [
    {
     "data": {
      "text/plain": [
       "W    1.230885\n",
       "X   -2.373453\n",
       "Y   -0.031111\n",
       "Z   -3.809890\n",
       "Name: A, dtype: float64"
      ]
     },
     "execution_count": 55,
     "metadata": {},
     "output_type": "execute_result"
    }
   ],
   "source": [
    "df.iloc[0] #iloc for index location"
   ]
  },
  {
   "cell_type": "code",
   "execution_count": 56,
   "id": "85be863a",
   "metadata": {},
   "outputs": [
    {
     "data": {
      "text/plain": [
       "1.5216622497713628"
      ]
     },
     "execution_count": 56,
     "metadata": {},
     "output_type": "execute_result"
    }
   ],
   "source": [
    "## selecting subset of rows and columns\n",
    "\n",
    "df.loc['D','Y']"
   ]
  },
  {
   "cell_type": "code",
   "execution_count": 58,
   "id": "4830167f",
   "metadata": {},
   "outputs": [
    {
     "data": {
      "text/html": [
       "<div>\n",
       "<style scoped>\n",
       "    .dataframe tbody tr th:only-of-type {\n",
       "        vertical-align: middle;\n",
       "    }\n",
       "\n",
       "    .dataframe tbody tr th {\n",
       "        vertical-align: top;\n",
       "    }\n",
       "\n",
       "    .dataframe thead th {\n",
       "        text-align: right;\n",
       "    }\n",
       "</style>\n",
       "<table border=\"1\" class=\"dataframe\">\n",
       "  <thead>\n",
       "    <tr style=\"text-align: right;\">\n",
       "      <th></th>\n",
       "      <th>X</th>\n",
       "      <th>Z</th>\n",
       "    </tr>\n",
       "  </thead>\n",
       "  <tbody>\n",
       "    <tr>\n",
       "      <th>B</th>\n",
       "      <td>0.350431</td>\n",
       "      <td>-0.634281</td>\n",
       "    </tr>\n",
       "    <tr>\n",
       "      <th>C</th>\n",
       "      <td>-2.570920</td>\n",
       "      <td>-0.719296</td>\n",
       "    </tr>\n",
       "  </tbody>\n",
       "</table>\n",
       "</div>"
      ],
      "text/plain": [
       "          X         Z\n",
       "B  0.350431 -0.634281\n",
       "C -2.570920 -0.719296"
      ]
     },
     "execution_count": 58,
     "metadata": {},
     "output_type": "execute_result"
    }
   ],
   "source": [
    "df.loc[['B','C'],['X','Z']]"
   ]
  },
  {
   "cell_type": "code",
   "execution_count": 61,
   "id": "c6c5ab4d",
   "metadata": {},
   "outputs": [
    {
     "data": {
      "text/html": [
       "<div>\n",
       "<style scoped>\n",
       "    .dataframe tbody tr th:only-of-type {\n",
       "        vertical-align: middle;\n",
       "    }\n",
       "\n",
       "    .dataframe tbody tr th {\n",
       "        vertical-align: top;\n",
       "    }\n",
       "\n",
       "    .dataframe thead th {\n",
       "        text-align: right;\n",
       "    }\n",
       "</style>\n",
       "<table border=\"1\" class=\"dataframe\">\n",
       "  <thead>\n",
       "    <tr style=\"text-align: right;\">\n",
       "      <th></th>\n",
       "      <th>Y</th>\n",
       "      <th>Z</th>\n",
       "    </tr>\n",
       "  </thead>\n",
       "  <tbody>\n",
       "    <tr>\n",
       "      <th>A</th>\n",
       "      <td>-0.031111</td>\n",
       "      <td>-3.809890</td>\n",
       "    </tr>\n",
       "    <tr>\n",
       "      <th>C</th>\n",
       "      <td>0.137515</td>\n",
       "      <td>-0.719296</td>\n",
       "    </tr>\n",
       "  </tbody>\n",
       "</table>\n",
       "</div>"
      ],
      "text/plain": [
       "          Y         Z\n",
       "A -0.031111 -3.809890\n",
       "C  0.137515 -0.719296"
      ]
     },
     "execution_count": 61,
     "metadata": {},
     "output_type": "execute_result"
    }
   ],
   "source": [
    "df.iloc[[-5,2],[2,3]]"
   ]
  },
  {
   "cell_type": "markdown",
   "id": "375168ce",
   "metadata": {},
   "source": [
    "# Conditional Selection"
   ]
  },
  {
   "cell_type": "code",
   "execution_count": 62,
   "id": "9f5c077f",
   "metadata": {},
   "outputs": [
    {
     "data": {
      "text/html": [
       "<div>\n",
       "<style scoped>\n",
       "    .dataframe tbody tr th:only-of-type {\n",
       "        vertical-align: middle;\n",
       "    }\n",
       "\n",
       "    .dataframe tbody tr th {\n",
       "        vertical-align: top;\n",
       "    }\n",
       "\n",
       "    .dataframe thead th {\n",
       "        text-align: right;\n",
       "    }\n",
       "</style>\n",
       "<table border=\"1\" class=\"dataframe\">\n",
       "  <thead>\n",
       "    <tr style=\"text-align: right;\">\n",
       "      <th></th>\n",
       "      <th>W</th>\n",
       "      <th>X</th>\n",
       "      <th>Y</th>\n",
       "      <th>Z</th>\n",
       "    </tr>\n",
       "  </thead>\n",
       "  <tbody>\n",
       "    <tr>\n",
       "      <th>A</th>\n",
       "      <td>1.230885</td>\n",
       "      <td>-2.373453</td>\n",
       "      <td>-0.031111</td>\n",
       "      <td>-3.809890</td>\n",
       "    </tr>\n",
       "    <tr>\n",
       "      <th>B</th>\n",
       "      <td>-0.199050</td>\n",
       "      <td>0.350431</td>\n",
       "      <td>-0.052551</td>\n",
       "      <td>-0.634281</td>\n",
       "    </tr>\n",
       "    <tr>\n",
       "      <th>C</th>\n",
       "      <td>-0.362931</td>\n",
       "      <td>-2.570920</td>\n",
       "      <td>0.137515</td>\n",
       "      <td>-0.719296</td>\n",
       "    </tr>\n",
       "    <tr>\n",
       "      <th>D</th>\n",
       "      <td>0.728523</td>\n",
       "      <td>1.621745</td>\n",
       "      <td>1.521662</td>\n",
       "      <td>-1.306773</td>\n",
       "    </tr>\n",
       "    <tr>\n",
       "      <th>E</th>\n",
       "      <td>-0.889768</td>\n",
       "      <td>0.005268</td>\n",
       "      <td>0.866425</td>\n",
       "      <td>-0.535536</td>\n",
       "    </tr>\n",
       "  </tbody>\n",
       "</table>\n",
       "</div>"
      ],
      "text/plain": [
       "          W         X         Y         Z\n",
       "A  1.230885 -2.373453 -0.031111 -3.809890\n",
       "B -0.199050  0.350431 -0.052551 -0.634281\n",
       "C -0.362931 -2.570920  0.137515 -0.719296\n",
       "D  0.728523  1.621745  1.521662 -1.306773\n",
       "E -0.889768  0.005268  0.866425 -0.535536"
      ]
     },
     "execution_count": 62,
     "metadata": {},
     "output_type": "execute_result"
    }
   ],
   "source": [
    "df"
   ]
  },
  {
   "cell_type": "code",
   "execution_count": 63,
   "id": "2ddce6fe",
   "metadata": {},
   "outputs": [
    {
     "data": {
      "text/html": [
       "<div>\n",
       "<style scoped>\n",
       "    .dataframe tbody tr th:only-of-type {\n",
       "        vertical-align: middle;\n",
       "    }\n",
       "\n",
       "    .dataframe tbody tr th {\n",
       "        vertical-align: top;\n",
       "    }\n",
       "\n",
       "    .dataframe thead th {\n",
       "        text-align: right;\n",
       "    }\n",
       "</style>\n",
       "<table border=\"1\" class=\"dataframe\">\n",
       "  <thead>\n",
       "    <tr style=\"text-align: right;\">\n",
       "      <th></th>\n",
       "      <th>W</th>\n",
       "      <th>X</th>\n",
       "      <th>Y</th>\n",
       "      <th>Z</th>\n",
       "    </tr>\n",
       "  </thead>\n",
       "  <tbody>\n",
       "    <tr>\n",
       "      <th>A</th>\n",
       "      <td>True</td>\n",
       "      <td>False</td>\n",
       "      <td>False</td>\n",
       "      <td>False</td>\n",
       "    </tr>\n",
       "    <tr>\n",
       "      <th>B</th>\n",
       "      <td>False</td>\n",
       "      <td>True</td>\n",
       "      <td>False</td>\n",
       "      <td>False</td>\n",
       "    </tr>\n",
       "    <tr>\n",
       "      <th>C</th>\n",
       "      <td>False</td>\n",
       "      <td>False</td>\n",
       "      <td>True</td>\n",
       "      <td>False</td>\n",
       "    </tr>\n",
       "    <tr>\n",
       "      <th>D</th>\n",
       "      <td>True</td>\n",
       "      <td>True</td>\n",
       "      <td>True</td>\n",
       "      <td>False</td>\n",
       "    </tr>\n",
       "    <tr>\n",
       "      <th>E</th>\n",
       "      <td>False</td>\n",
       "      <td>True</td>\n",
       "      <td>True</td>\n",
       "      <td>False</td>\n",
       "    </tr>\n",
       "  </tbody>\n",
       "</table>\n",
       "</div>"
      ],
      "text/plain": [
       "       W      X      Y      Z\n",
       "A   True  False  False  False\n",
       "B  False   True  False  False\n",
       "C  False  False   True  False\n",
       "D   True   True   True  False\n",
       "E  False   True   True  False"
      ]
     },
     "execution_count": 63,
     "metadata": {},
     "output_type": "execute_result"
    }
   ],
   "source": [
    "df>0"
   ]
  },
  {
   "cell_type": "code",
   "execution_count": 64,
   "id": "ae4935e1",
   "metadata": {},
   "outputs": [
    {
     "data": {
      "text/html": [
       "<div>\n",
       "<style scoped>\n",
       "    .dataframe tbody tr th:only-of-type {\n",
       "        vertical-align: middle;\n",
       "    }\n",
       "\n",
       "    .dataframe tbody tr th {\n",
       "        vertical-align: top;\n",
       "    }\n",
       "\n",
       "    .dataframe thead th {\n",
       "        text-align: right;\n",
       "    }\n",
       "</style>\n",
       "<table border=\"1\" class=\"dataframe\">\n",
       "  <thead>\n",
       "    <tr style=\"text-align: right;\">\n",
       "      <th></th>\n",
       "      <th>W</th>\n",
       "      <th>X</th>\n",
       "      <th>Y</th>\n",
       "      <th>Z</th>\n",
       "    </tr>\n",
       "  </thead>\n",
       "  <tbody>\n",
       "    <tr>\n",
       "      <th>A</th>\n",
       "      <td>1.230885</td>\n",
       "      <td>NaN</td>\n",
       "      <td>NaN</td>\n",
       "      <td>NaN</td>\n",
       "    </tr>\n",
       "    <tr>\n",
       "      <th>B</th>\n",
       "      <td>NaN</td>\n",
       "      <td>0.350431</td>\n",
       "      <td>NaN</td>\n",
       "      <td>NaN</td>\n",
       "    </tr>\n",
       "    <tr>\n",
       "      <th>C</th>\n",
       "      <td>NaN</td>\n",
       "      <td>NaN</td>\n",
       "      <td>0.137515</td>\n",
       "      <td>NaN</td>\n",
       "    </tr>\n",
       "    <tr>\n",
       "      <th>D</th>\n",
       "      <td>0.728523</td>\n",
       "      <td>1.621745</td>\n",
       "      <td>1.521662</td>\n",
       "      <td>NaN</td>\n",
       "    </tr>\n",
       "    <tr>\n",
       "      <th>E</th>\n",
       "      <td>NaN</td>\n",
       "      <td>0.005268</td>\n",
       "      <td>0.866425</td>\n",
       "      <td>NaN</td>\n",
       "    </tr>\n",
       "  </tbody>\n",
       "</table>\n",
       "</div>"
      ],
      "text/plain": [
       "          W         X         Y   Z\n",
       "A  1.230885       NaN       NaN NaN\n",
       "B       NaN  0.350431       NaN NaN\n",
       "C       NaN       NaN  0.137515 NaN\n",
       "D  0.728523  1.621745  1.521662 NaN\n",
       "E       NaN  0.005268  0.866425 NaN"
      ]
     },
     "execution_count": 64,
     "metadata": {},
     "output_type": "execute_result"
    }
   ],
   "source": [
    "df[df>0]  #not common to use"
   ]
  },
  {
   "cell_type": "code",
   "execution_count": 65,
   "id": "38c1147f",
   "metadata": {},
   "outputs": [
    {
     "data": {
      "text/plain": [
       "A    False\n",
       "B     True\n",
       "C    False\n",
       "D     True\n",
       "E     True\n",
       "Name: X, dtype: bool"
      ]
     },
     "execution_count": 65,
     "metadata": {},
     "output_type": "execute_result"
    }
   ],
   "source": [
    "df['X']>0"
   ]
  },
  {
   "cell_type": "code",
   "execution_count": 72,
   "id": "d378e703",
   "metadata": {},
   "outputs": [
    {
     "data": {
      "text/html": [
       "<div>\n",
       "<style scoped>\n",
       "    .dataframe tbody tr th:only-of-type {\n",
       "        vertical-align: middle;\n",
       "    }\n",
       "\n",
       "    .dataframe tbody tr th {\n",
       "        vertical-align: top;\n",
       "    }\n",
       "\n",
       "    .dataframe thead th {\n",
       "        text-align: right;\n",
       "    }\n",
       "</style>\n",
       "<table border=\"1\" class=\"dataframe\">\n",
       "  <thead>\n",
       "    <tr style=\"text-align: right;\">\n",
       "      <th></th>\n",
       "      <th>W</th>\n",
       "      <th>X</th>\n",
       "      <th>Y</th>\n",
       "      <th>Z</th>\n",
       "    </tr>\n",
       "  </thead>\n",
       "  <tbody>\n",
       "    <tr>\n",
       "      <th>A</th>\n",
       "      <td>1.230885</td>\n",
       "      <td>-2.373453</td>\n",
       "      <td>-0.031111</td>\n",
       "      <td>-3.809890</td>\n",
       "    </tr>\n",
       "    <tr>\n",
       "      <th>B</th>\n",
       "      <td>-0.199050</td>\n",
       "      <td>0.350431</td>\n",
       "      <td>-0.052551</td>\n",
       "      <td>-0.634281</td>\n",
       "    </tr>\n",
       "    <tr>\n",
       "      <th>C</th>\n",
       "      <td>-0.362931</td>\n",
       "      <td>-2.570920</td>\n",
       "      <td>0.137515</td>\n",
       "      <td>-0.719296</td>\n",
       "    </tr>\n",
       "    <tr>\n",
       "      <th>D</th>\n",
       "      <td>0.728523</td>\n",
       "      <td>1.621745</td>\n",
       "      <td>1.521662</td>\n",
       "      <td>-1.306773</td>\n",
       "    </tr>\n",
       "    <tr>\n",
       "      <th>E</th>\n",
       "      <td>-0.889768</td>\n",
       "      <td>0.005268</td>\n",
       "      <td>0.866425</td>\n",
       "      <td>-0.535536</td>\n",
       "    </tr>\n",
       "  </tbody>\n",
       "</table>\n",
       "</div>"
      ],
      "text/plain": [
       "          W         X         Y         Z\n",
       "A  1.230885 -2.373453 -0.031111 -3.809890\n",
       "B -0.199050  0.350431 -0.052551 -0.634281\n",
       "C -0.362931 -2.570920  0.137515 -0.719296\n",
       "D  0.728523  1.621745  1.521662 -1.306773\n",
       "E -0.889768  0.005268  0.866425 -0.535536"
      ]
     },
     "execution_count": 72,
     "metadata": {},
     "output_type": "execute_result"
    }
   ],
   "source": [
    "df"
   ]
  },
  {
   "cell_type": "code",
   "execution_count": 81,
   "id": "7f427811",
   "metadata": {},
   "outputs": [
    {
     "data": {
      "text/html": [
       "<div>\n",
       "<style scoped>\n",
       "    .dataframe tbody tr th:only-of-type {\n",
       "        vertical-align: middle;\n",
       "    }\n",
       "\n",
       "    .dataframe tbody tr th {\n",
       "        vertical-align: top;\n",
       "    }\n",
       "\n",
       "    .dataframe thead th {\n",
       "        text-align: right;\n",
       "    }\n",
       "</style>\n",
       "<table border=\"1\" class=\"dataframe\">\n",
       "  <thead>\n",
       "    <tr style=\"text-align: right;\">\n",
       "      <th></th>\n",
       "      <th>W</th>\n",
       "      <th>X</th>\n",
       "      <th>Y</th>\n",
       "      <th>Z</th>\n",
       "    </tr>\n",
       "  </thead>\n",
       "  <tbody>\n",
       "    <tr>\n",
       "      <th>B</th>\n",
       "      <td>-0.199050</td>\n",
       "      <td>0.350431</td>\n",
       "      <td>-0.052551</td>\n",
       "      <td>-0.634281</td>\n",
       "    </tr>\n",
       "    <tr>\n",
       "      <th>D</th>\n",
       "      <td>0.728523</td>\n",
       "      <td>1.621745</td>\n",
       "      <td>1.521662</td>\n",
       "      <td>-1.306773</td>\n",
       "    </tr>\n",
       "    <tr>\n",
       "      <th>E</th>\n",
       "      <td>-0.889768</td>\n",
       "      <td>0.005268</td>\n",
       "      <td>0.866425</td>\n",
       "      <td>-0.535536</td>\n",
       "    </tr>\n",
       "  </tbody>\n",
       "</table>\n",
       "</div>"
      ],
      "text/plain": [
       "          W         X         Y         Z\n",
       "B -0.199050  0.350431 -0.052551 -0.634281\n",
       "D  0.728523  1.621745  1.521662 -1.306773\n",
       "E -0.889768  0.005268  0.866425 -0.535536"
      ]
     },
     "execution_count": 81,
     "metadata": {},
     "output_type": "execute_result"
    }
   ],
   "source": [
    "df[df['X']>0]"
   ]
  },
  {
   "cell_type": "code",
   "execution_count": 78,
   "id": "ea4981cd",
   "metadata": {},
   "outputs": [
    {
     "data": {
      "text/html": [
       "<div>\n",
       "<style scoped>\n",
       "    .dataframe tbody tr th:only-of-type {\n",
       "        vertical-align: middle;\n",
       "    }\n",
       "\n",
       "    .dataframe tbody tr th {\n",
       "        vertical-align: top;\n",
       "    }\n",
       "\n",
       "    .dataframe thead th {\n",
       "        text-align: right;\n",
       "    }\n",
       "</style>\n",
       "<table border=\"1\" class=\"dataframe\">\n",
       "  <thead>\n",
       "    <tr style=\"text-align: right;\">\n",
       "      <th></th>\n",
       "      <th>W</th>\n",
       "      <th>X</th>\n",
       "      <th>Y</th>\n",
       "      <th>Z</th>\n",
       "    </tr>\n",
       "  </thead>\n",
       "  <tbody>\n",
       "    <tr>\n",
       "      <th>D</th>\n",
       "      <td>0.728523</td>\n",
       "      <td>1.621745</td>\n",
       "      <td>1.521662</td>\n",
       "      <td>-1.306773</td>\n",
       "    </tr>\n",
       "  </tbody>\n",
       "</table>\n",
       "</div>"
      ],
      "text/plain": [
       "          W         X         Y         Z\n",
       "D  0.728523  1.621745  1.521662 -1.306773"
      ]
     },
     "execution_count": 78,
     "metadata": {},
     "output_type": "execute_result"
    }
   ],
   "source": [
    "df[(df['W']>0) & (df['Y']>0) ]"
   ]
  },
  {
   "cell_type": "code",
   "execution_count": 79,
   "id": "e6e2a5e2",
   "metadata": {},
   "outputs": [
    {
     "data": {
      "text/html": [
       "<div>\n",
       "<style scoped>\n",
       "    .dataframe tbody tr th:only-of-type {\n",
       "        vertical-align: middle;\n",
       "    }\n",
       "\n",
       "    .dataframe tbody tr th {\n",
       "        vertical-align: top;\n",
       "    }\n",
       "\n",
       "    .dataframe thead th {\n",
       "        text-align: right;\n",
       "    }\n",
       "</style>\n",
       "<table border=\"1\" class=\"dataframe\">\n",
       "  <thead>\n",
       "    <tr style=\"text-align: right;\">\n",
       "      <th></th>\n",
       "      <th>W</th>\n",
       "      <th>X</th>\n",
       "      <th>Y</th>\n",
       "      <th>Z</th>\n",
       "    </tr>\n",
       "  </thead>\n",
       "  <tbody>\n",
       "    <tr>\n",
       "      <th>A</th>\n",
       "      <td>1.230885</td>\n",
       "      <td>-2.373453</td>\n",
       "      <td>-0.031111</td>\n",
       "      <td>-3.809890</td>\n",
       "    </tr>\n",
       "    <tr>\n",
       "      <th>C</th>\n",
       "      <td>-0.362931</td>\n",
       "      <td>-2.570920</td>\n",
       "      <td>0.137515</td>\n",
       "      <td>-0.719296</td>\n",
       "    </tr>\n",
       "    <tr>\n",
       "      <th>D</th>\n",
       "      <td>0.728523</td>\n",
       "      <td>1.621745</td>\n",
       "      <td>1.521662</td>\n",
       "      <td>-1.306773</td>\n",
       "    </tr>\n",
       "    <tr>\n",
       "      <th>E</th>\n",
       "      <td>-0.889768</td>\n",
       "      <td>0.005268</td>\n",
       "      <td>0.866425</td>\n",
       "      <td>-0.535536</td>\n",
       "    </tr>\n",
       "  </tbody>\n",
       "</table>\n",
       "</div>"
      ],
      "text/plain": [
       "          W         X         Y         Z\n",
       "A  1.230885 -2.373453 -0.031111 -3.809890\n",
       "C -0.362931 -2.570920  0.137515 -0.719296\n",
       "D  0.728523  1.621745  1.521662 -1.306773\n",
       "E -0.889768  0.005268  0.866425 -0.535536"
      ]
     },
     "execution_count": 79,
     "metadata": {},
     "output_type": "execute_result"
    }
   ],
   "source": [
    "df[(df['W']>0) | (df['Y']>0) ]"
   ]
  },
  {
   "cell_type": "code",
   "execution_count": null,
   "id": "c992d77c",
   "metadata": {},
   "outputs": [],
   "source": [
    "0-"
   ]
  }
 ],
 "metadata": {
  "kernelspec": {
   "display_name": "Python 3 (ipykernel)",
   "language": "python",
   "name": "python3"
  },
  "language_info": {
   "codemirror_mode": {
    "name": "ipython",
    "version": 3
   },
   "file_extension": ".py",
   "mimetype": "text/x-python",
   "name": "python",
   "nbconvert_exporter": "python",
   "pygments_lexer": "ipython3",
   "version": "3.11.3"
  }
 },
 "nbformat": 4,
 "nbformat_minor": 5
}
