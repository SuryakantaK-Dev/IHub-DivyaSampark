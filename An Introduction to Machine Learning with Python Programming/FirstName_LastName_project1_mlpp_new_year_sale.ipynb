{
 "cells": [
  {
   "cell_type": "markdown",
   "id": "ca754f09",
   "metadata": {},
   "source": [
    "# 1. Import relevant libraries"
   ]
  },
  {
   "cell_type": "code",
   "execution_count": null,
   "id": "aed9b226",
   "metadata": {},
   "outputs": [],
   "source": []
  },
  {
   "cell_type": "markdown",
   "id": "610f25fd",
   "metadata": {},
   "source": [
    "# 2. Import csv file"
   ]
  },
  {
   "cell_type": "code",
   "execution_count": null,
   "id": "48650491",
   "metadata": {},
   "outputs": [],
   "source": []
  },
  {
   "cell_type": "markdown",
   "id": "9921055a",
   "metadata": {},
   "source": [
    "# 3. Find out no. of rows and no. of columns in the dataframe"
   ]
  },
  {
   "cell_type": "code",
   "execution_count": null,
   "id": "dd1a4be2",
   "metadata": {},
   "outputs": [],
   "source": []
  },
  {
   "cell_type": "markdown",
   "id": "07845ea1",
   "metadata": {},
   "source": [
    "# 4. See first few rows of the dataframe in the notebook itself"
   ]
  },
  {
   "cell_type": "code",
   "execution_count": null,
   "id": "49c0c70d",
   "metadata": {},
   "outputs": [],
   "source": []
  },
  {
   "cell_type": "markdown",
   "id": "b3bcab9e",
   "metadata": {},
   "source": [
    "# 5. Determine the datatype of columns"
   ]
  },
  {
   "cell_type": "code",
   "execution_count": null,
   "id": "16883a09",
   "metadata": {},
   "outputs": [],
   "source": []
  },
  {
   "cell_type": "markdown",
   "id": "0e499d5d",
   "metadata": {},
   "source": [
    "# 6. Drop columns which are not related, in your opinion"
   ]
  },
  {
   "cell_type": "code",
   "execution_count": null,
   "id": "cc3d2e62",
   "metadata": {},
   "outputs": [],
   "source": []
  },
  {
   "cell_type": "markdown",
   "id": "f043ba0e",
   "metadata": {},
   "source": [
    "# 7. Check for null values"
   ]
  },
  {
   "cell_type": "code",
   "execution_count": null,
   "id": "b0fa3c15",
   "metadata": {},
   "outputs": [],
   "source": []
  },
  {
   "cell_type": "markdown",
   "id": "e8f1890b",
   "metadata": {},
   "source": [
    "# 8. Drop null values from the dataframe"
   ]
  },
  {
   "cell_type": "code",
   "execution_count": null,
   "id": "b03144d6",
   "metadata": {},
   "outputs": [],
   "source": []
  },
  {
   "cell_type": "markdown",
   "id": "fa0c9e27",
   "metadata": {},
   "source": [
    "# 9. Change the data type of columns, wherever required"
   ]
  },
  {
   "cell_type": "code",
   "execution_count": null,
   "id": "73369b0d",
   "metadata": {},
   "outputs": [],
   "source": []
  },
  {
   "cell_type": "markdown",
   "id": "f48df7e8",
   "metadata": {},
   "source": [
    "# 10. Verify the changed data type of columns"
   ]
  },
  {
   "cell_type": "code",
   "execution_count": null,
   "id": "b45192ef",
   "metadata": {},
   "outputs": [],
   "source": []
  },
  {
   "cell_type": "markdown",
   "id": "93d10453",
   "metadata": {},
   "source": [
    "# 11. Print columns name in a list"
   ]
  },
  {
   "cell_type": "code",
   "execution_count": null,
   "id": "8b1fa270",
   "metadata": {},
   "outputs": [],
   "source": []
  },
  {
   "cell_type": "markdown",
   "id": "19b5b5ca",
   "metadata": {},
   "source": [
    "# 12. Change column name 'Marital_Status' to 'Whether_married' and 'Cust_name' to 'Customer_name' permanently"
   ]
  },
  {
   "cell_type": "code",
   "execution_count": null,
   "id": "2e88a99e",
   "metadata": {},
   "outputs": [],
   "source": []
  },
  {
   "cell_type": "markdown",
   "id": "3fd01c15",
   "metadata": {},
   "source": [
    "# 13. Return the description of all the columns (count, mean, std etc.)"
   ]
  },
  {
   "cell_type": "code",
   "execution_count": null,
   "id": "1ac69f94",
   "metadata": {},
   "outputs": [],
   "source": []
  },
  {
   "cell_type": "markdown",
   "id": "b5cf9bd8",
   "metadata": {},
   "source": [
    "# 13. Return the description of these specific columns only: Age, Orders, Amount"
   ]
  },
  {
   "cell_type": "code",
   "execution_count": null,
   "id": "9e1e7d3f",
   "metadata": {},
   "outputs": [],
   "source": []
  },
  {
   "cell_type": "markdown",
   "id": "8dc89755",
   "metadata": {},
   "source": [
    "# 14 Determine how much sum of amount males and females spent separately. Sort that amount in descending order"
   ]
  },
  {
   "cell_type": "code",
   "execution_count": null,
   "id": "4440b8fb",
   "metadata": {},
   "outputs": [],
   "source": []
  },
  {
   "cell_type": "markdown",
   "id": "9a1821c0",
   "metadata": {},
   "source": [
    "# 15. Draw a histogram of column Age, Resize the figure"
   ]
  },
  {
   "cell_type": "code",
   "execution_count": null,
   "id": "c4725ce4",
   "metadata": {},
   "outputs": [],
   "source": []
  },
  {
   "cell_type": "markdown",
   "id": "161da030",
   "metadata": {},
   "source": [
    "# 16. compare on barchat how many married males are there in states: Delhi, Gujarat, Rajasthan, Telangana"
   ]
  },
  {
   "cell_type": "code",
   "execution_count": null,
   "id": "fe2a00f8",
   "metadata": {},
   "outputs": [],
   "source": []
  },
  {
   "cell_type": "markdown",
   "id": "11fd0280",
   "metadata": {},
   "source": [
    "# 17. With condition same as in previous question, Draw a scatter plot with Amount on y-axis and Age on x-axis "
   ]
  },
  {
   "cell_type": "code",
   "execution_count": null,
   "id": "bcd3a73e",
   "metadata": {},
   "outputs": [],
   "source": []
  },
  {
   "cell_type": "markdown",
   "id": "b66a8eab",
   "metadata": {},
   "source": [
    "# 18. Get creative and surprise us. (Mandatory)\n",
    "\n",
    "(Besides questions above, Put into practice knowledge you have acquired as a part of our course so far)"
   ]
  },
  {
   "cell_type": "code",
   "execution_count": null,
   "id": "2fbabb1f",
   "metadata": {},
   "outputs": [],
   "source": []
  },
  {
   "cell_type": "markdown",
   "id": "504b419c",
   "metadata": {},
   "source": [
    "### Best of Luck"
   ]
  },
  {
   "cell_type": "markdown",
   "id": "d7bfbc58",
   "metadata": {},
   "source": [
    "Thank you!"
   ]
  }
 ],
 "metadata": {
  "kernelspec": {
   "display_name": "Python 3 (ipykernel)",
   "language": "python",
   "name": "python3"
  },
  "language_info": {
   "codemirror_mode": {
    "name": "ipython",
    "version": 3
   },
   "file_extension": ".py",
   "mimetype": "text/x-python",
   "name": "python",
   "nbconvert_exporter": "python",
   "pygments_lexer": "ipython3",
   "version": "3.11.3"
  }
 },
 "nbformat": 4,
 "nbformat_minor": 5
}
